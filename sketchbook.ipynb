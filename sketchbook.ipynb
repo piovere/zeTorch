{
 "cells": [
  {
   "cell_type": "code",
   "execution_count": 1,
   "metadata": {
    "collapsed": true
   },
   "outputs": [],
   "source": [
    "%matplotlib inline\n",
    "import pandas as pd\n",
    "import numpy as np\n",
    "import matplotlib.pyplot as plt"
   ]
  },
  {
   "cell_type": "code",
   "execution_count": 2,
   "metadata": {
    "collapsed": true
   },
   "outputs": [],
   "source": [
    "def loadfile(fn):\n",
    "    \"\"\"Load plasma torch spectrum from file\n",
    "    \n",
    "    Returns pandas dataframe with two columns. When loading, it\n",
    "    checks to validate that average counts (\"Intensity\") is above 100.\n",
    "    It also checks that all channels above 1000nm are less than 100.\n",
    "    If either of these checks fails, it raises an error instead of\n",
    "    loading the data. It also sets all channels with negative counts\n",
    "    to zero.\n",
    "    \"\"\"\n",
    "    d = pd.read_table(\n",
    "        fn,\n",
    "        sep='\\s+',\n",
    "        skiprows=15,\n",
    "        skipfooter=240,\n",
    "        engine='python',\n",
    "        header=None,\n",
    "        names=['Wavelength', 'Intensity']\n",
    "    )\n",
    "    d[d<0] = 0\n",
    "    \n",
    "    # Verify the mean is above 100\n",
    "    mn = np.mean(d['Intensity'])\n",
    "    if mn < 100:\n",
    "        raise Exception('Average intensity is too low ({} < 100)'.format(np.mean(d['Intensity'])))\n",
    "    \n",
    "    # Verify that channels above 1000nm are < 100\n",
    "    high_wavelength_values = d[d['Wavelength'] > 1000]\n",
    "    mx = np.max(high_wavelength_values['Intensity'])\n",
    "    if mx > 100:\n",
    "        raise Exception('High-wavelength intensity too high ({} > 100)'.format(mx))\n",
    "    \n",
    "    # Normalize the intensity\n",
    "    d['Intensity'] = d['Intensity'] / sum(d['Intensity'])\n",
    "    \n",
    "    return d"
   ]
  },
  {
   "cell_type": "code",
   "execution_count": 3,
   "metadata": {
    "collapsed": true
   },
   "outputs": [],
   "source": [
    "d = loadfile('Data/20170721-Ar-H-Torch.txt')"
   ]
  },
  {
   "cell_type": "code",
   "execution_count": 4,
   "metadata": {},
   "outputs": [
    {
     "data": {
      "image/png": "[encoded data removed]",
      "text/plain": [
       "<matplotlib.figure.Figure at 0x11633a5f8>"
      ]
     },
     "metadata": {},
     "output_type": "display_data"
    }
   ],
   "source": [
    "f = plt.figure(1)\n",
    "p = plt.subplot(111)\n",
    "p.plot(d['Intensity'])\n",
    "fig_size = [0, 0]\n",
    "fig_size[0] = 12\n",
    "fig_size[1] = 9\n",
    "plt.title(\"Spectrum\")\n",
    "plt.show()"
   ]
  },
  {
   "cell_type": "code",
   "execution_count": 5,
   "metadata": {},
   "outputs": [
    {
     "ename": "Exception",
     "evalue": "High-wavelength intensity too high (766.31 > 100)",
     "output_type": "error",
     "traceback": [
      "\u001b[0;31m---------------------------------------------------------------------------\u001b[0m",
      "\u001b[0;31mException\u001b[0m                                 Traceback (most recent call last)",
      "\u001b[0;32m<ipython-input-5-4f867f4b5a16>\u001b[0m in \u001b[0;36m<module>\u001b[0;34m()\u001b[0m\n\u001b[0;32m----> 1\u001b[0;31m \u001b[0mbd1\u001b[0m \u001b[0;34m=\u001b[0m \u001b[0mloadfile\u001b[0m\u001b[0;34m(\u001b[0m\u001b[0;34m\"Data/Bad/20170906_ORNL-Torch-Sil_Subt14_14-31-55-813.txt\"\u001b[0m\u001b[0;34m)\u001b[0m\u001b[0;34m\u001b[0m\u001b[0m\n\u001b[0m",
      "\u001b[0;32m<ipython-input-2-90b3a6896a21>\u001b[0m in \u001b[0;36mloadfile\u001b[0;34m(fn)\u001b[0m\n\u001b[1;32m     29\u001b[0m     \u001b[0mmx\u001b[0m \u001b[0;34m=\u001b[0m \u001b[0mnp\u001b[0m\u001b[0;34m.\u001b[0m\u001b[0mmax\u001b[0m\u001b[0;34m(\u001b[0m\u001b[0mhigh_wavelength_values\u001b[0m\u001b[0;34m[\u001b[0m\u001b[0;34m'Intensity'\u001b[0m\u001b[0;34m]\u001b[0m\u001b[0;34m)\u001b[0m\u001b[0;34m\u001b[0m\u001b[0m\n\u001b[1;32m     30\u001b[0m     \u001b[0;32mif\u001b[0m \u001b[0mmx\u001b[0m \u001b[0;34m>\u001b[0m \u001b[0;36m100\u001b[0m\u001b[0;34m:\u001b[0m\u001b[0;34m\u001b[0m\u001b[0m\n\u001b[0;32m---> 31\u001b[0;31m         \u001b[0;32mraise\u001b[0m \u001b[0mException\u001b[0m\u001b[0;34m(\u001b[0m\u001b[0;34m'High-wavelength intensity too high ({} > 100)'\u001b[0m\u001b[0;34m.\u001b[0m\u001b[0mformat\u001b[0m\u001b[0;34m(\u001b[0m\u001b[0mmx\u001b[0m\u001b[0;34m)\u001b[0m\u001b[0;34m)\u001b[0m\u001b[0;34m\u001b[0m\u001b[0m\n\u001b[0m\u001b[1;32m     32\u001b[0m \u001b[0;34m\u001b[0m\u001b[0m\n\u001b[1;32m     33\u001b[0m     \u001b[0;31m# Normalize the intensity\u001b[0m\u001b[0;34m\u001b[0m\u001b[0;34m\u001b[0m\u001b[0m\n",
      "\u001b[0;31mException\u001b[0m: High-wavelength intensity too high (766.31 > 100)"
     ]
    }
   ],
   "source": [
    "bd1 = loadfile(\"Data/Bad/20170906_ORNL-Torch-Sil_Subt14_14-31-55-813.txt\")"
   ]
  },
  {
   "cell_type": "code",
   "execution_count": 6,
   "metadata": {},
   "outputs": [
    {
     "ename": "Exception",
     "evalue": "Average intensity is too low (6.387202906071586 < 100)",
     "output_type": "error",
     "traceback": [
      "\u001b[0;31m---------------------------------------------------------------------------\u001b[0m",
      "\u001b[0;31mException\u001b[0m                                 Traceback (most recent call last)",
      "\u001b[0;32m<ipython-input-6-607db62e3ad2>\u001b[0m in \u001b[0;36m<module>\u001b[0;34m()\u001b[0m\n\u001b[0;32m----> 1\u001b[0;31m \u001b[0mbd2\u001b[0m \u001b[0;34m=\u001b[0m \u001b[0mloadfile\u001b[0m\u001b[0;34m(\u001b[0m\u001b[0;34m'Data/Bad/20170906_ORNL-Torch-Sil_Subt14_14-33-16-145.txt'\u001b[0m\u001b[0;34m)\u001b[0m\u001b[0;34m\u001b[0m\u001b[0m\n\u001b[0m",
      "\u001b[0;32m<ipython-input-2-90b3a6896a21>\u001b[0m in \u001b[0;36mloadfile\u001b[0;34m(fn)\u001b[0m\n\u001b[1;32m     23\u001b[0m     \u001b[0mmn\u001b[0m \u001b[0;34m=\u001b[0m \u001b[0mnp\u001b[0m\u001b[0;34m.\u001b[0m\u001b[0mmean\u001b[0m\u001b[0;34m(\u001b[0m\u001b[0md\u001b[0m\u001b[0;34m[\u001b[0m\u001b[0;34m'Intensity'\u001b[0m\u001b[0;34m]\u001b[0m\u001b[0;34m)\u001b[0m\u001b[0;34m\u001b[0m\u001b[0m\n\u001b[1;32m     24\u001b[0m     \u001b[0;32mif\u001b[0m \u001b[0mmn\u001b[0m \u001b[0;34m<\u001b[0m \u001b[0;36m100\u001b[0m\u001b[0;34m:\u001b[0m\u001b[0;34m\u001b[0m\u001b[0m\n\u001b[0;32m---> 25\u001b[0;31m         \u001b[0;32mraise\u001b[0m \u001b[0mException\u001b[0m\u001b[0;34m(\u001b[0m\u001b[0;34m'Average intensity is too low ({} < 100)'\u001b[0m\u001b[0;34m.\u001b[0m\u001b[0mformat\u001b[0m\u001b[0;34m(\u001b[0m\u001b[0mnp\u001b[0m\u001b[0;34m.\u001b[0m\u001b[0mmean\u001b[0m\u001b[0;34m(\u001b[0m\u001b[0md\u001b[0m\u001b[0;34m[\u001b[0m\u001b[0;34m'Intensity'\u001b[0m\u001b[0;34m]\u001b[0m\u001b[0;34m)\u001b[0m\u001b[0;34m)\u001b[0m\u001b[0;34m)\u001b[0m\u001b[0;34m\u001b[0m\u001b[0m\n\u001b[0m\u001b[1;32m     26\u001b[0m \u001b[0;34m\u001b[0m\u001b[0m\n\u001b[1;32m     27\u001b[0m     \u001b[0;31m# Verify that channels above 1000nm are < 100\u001b[0m\u001b[0;34m\u001b[0m\u001b[0;34m\u001b[0m\u001b[0m\n",
      "\u001b[0;31mException\u001b[0m: Average intensity is too low (6.387202906071586 < 100)"
     ]
    }
   ],
   "source": [
    "bd2 = loadfile('Data/Bad/20170906_ORNL-Torch-Sil_Subt14_14-33-16-145.txt')"
   ]
  },
  {
   "cell_type": "code",
   "execution_count": null,
   "metadata": {
    "collapsed": true
   },
   "outputs": [],
   "source": []
  }
 ],
 "metadata": {
  "kernelspec": {
   "display_name": "Python 3",
   "language": "python",
   "name": "python3"
  },
  "language_info": {
   "codemirror_mode": {
    "name": "ipython",
    "version": 3
   },
   "file_extension": ".py",
   "mimetype": "text/x-python",
   "name": "python",
   "nbconvert_exporter": "python",
   "pygments_lexer": "ipython3",
   "version": "3.6.1"
  }
 },
 "nbformat": 4,
 "nbformat_minor": 2
}
